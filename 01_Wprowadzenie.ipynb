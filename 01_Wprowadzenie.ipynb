{
 "cells": [
  {
   "cell_type": "markdown",
   "metadata": {},
   "source": [
    "# Wprowadzenie: Python, notatnik Jupyter, numpy, ...\n",
    "\n",
    "* obsługa notatnika, skróty klawiszowe\n",
    "* komórki kodu Python i komórki z notatkami Markdown, tworzenie, uruchamianie i operacje na komórkach\n",
    "* podstawy języka Python: zmienne, typy, wczytywanie, wypisywanie wartości, instrukcje sterujące, podstawowe typy złożone, funkcje \n",
    "* pakiet NumPy do operacji macierzowych oraz MatplotLib do wykresów\n",
    "\n",
    "***\n",
    "\n"
   ]
  },
  {
   "cell_type": "markdown",
   "metadata": {},
   "source": [
    "### **Ćwiczenie**\n",
    "\n",
    "Jaki jest wynik poniższej operacji?"
   ]
  },
  {
   "cell_type": "code",
   "execution_count": null,
   "metadata": {},
   "outputs": [],
   "source": [
    "2 + 2"
   ]
  },
  {
   "cell_type": "markdown",
   "metadata": {},
   "source": [
    "***\n",
    "\n",
    "## Notatnik Jupyter - przydatne skróty klawiszowe\n",
    "\n",
    "### Tryby pracy:\n",
    "\n",
    "* `Enter` tryb **edycji komórki**. Edycja kodu lub tekstu Markdown.\n",
    "* `Ecs`  tryb **komend** (wyjście z trybu edycji). Daje możliwość zaznaczania i manipulacji na komórkach, np. usuwanie, przemieszczanie, tworzenie nowych komórek.\n",
    "\n",
    "### Uruchamiania komórek\n",
    "\n",
    "- `Shift` + `Enter` uruchamia komórkę\n",
    "- `Alt` + `Enter` uruchamia komórkę i dodaje nową, pustą komórkę\n",
    "\n",
    "### Pomoc\n",
    "\n",
    "- `Shift` + `Tab` dokumentacja funkcji wskazanej kursorem\n",
    "- `Tab` dopełnianie składni\n",
    "\n",
    "\n",
    "### Skróty klawiszowe\n",
    "\n",
    "\n",
    "#### W trybie komend\n",
    "\n",
    "- `A` wstawia nową komórkę powyżej\n",
    "- `B` wstawia nową komórkę poniżej\n",
    "- `M` zamienia typ komórki na komórkę Markdown\n",
    "- `Y` zamienia typ komórki na komórkę z kodem\n",
    "- `D` `D` usuwa aktualną komórkę\n",
    "- `Shift` + `Down` zaznacz następną komórkę\n",
    "- `Shift` + `Up` zaznacz poprzednią komórkę\n",
    "- `Shift` + `M` scal zaznaczone komórki\n",
    "\n",
    "#### W trybie edycji\n",
    "\n",
    "- `Ctrl` + `Shift` + `-` dzieli komórkę w miejscu kursora\n",
    "- `Esc` + `F` znajdź i zamień fragment kodu (nie uwzględnia wyników działania)\n",
    "- `Esc` + `O` włącz/wyłącz podgląd wyniku komórki\n",
    "\n",
    "\n",
    "## Przydatne adresy\n",
    "- Project website: <http://jupyter.org>\n",
    "- Ściąga <https://www.edureka.co/blog/wp-content/uploads/2018/10/Jupyter_Notebook_CheatSheet_Edureka.pdf>\n",
    "- Dokumentacja: <https://jupyter.readthedocs.io/en/latest/index.html>\n",
    "- Jupyter tutorial: <https://www.datacamp.com/community/tutorials/tutorial-jupyter-notebook#gs.FvQnWPo>\n"
   ]
  },
  {
   "cell_type": "markdown",
   "metadata": {},
   "source": [
    "## Ćwiczenia składni Markdown \n",
    "\n",
    "Tutaj ściąga: https://github.com/adam-p/markdown-here/wiki/Markdown-Cheatsheet\n",
    "\n",
    "# Nagłowek 1 \n",
    "## Nagłowek 2 \n",
    "### Nagłowek 3 \n",
    "#### Nagłowek 4 \n",
    "##### Nagłowek 5\n",
    "\n",
    "### Tekst\n",
    "\n",
    "Normalny tekst, **pogrubiony** lub __pogrubiony__, lub *kursywa* albo _kursywa_.\n",
    "\n",
    "Akapity oddzielone pustą linią\n",
    "\n",
    "### Listy\n",
    "\n",
    "Lista wypunktowana\n",
    "* element 1\n",
    "* element 2\n",
    "\n",
    "Lista numerowana:\n",
    "1. Lists can also be numbered.\n",
    "2. For ordered lists.\n",
    "\n",
    "### Linki\n",
    "\n",
    "[Adres odnośnika](https://www.dataquest.io/blog/jupyter-notebook-tutorial/)\n",
    "\n",
    "### Fragmenty kodu \n",
    "\n",
    "Kod umieszczone w tekście `foo()` lub w osobnym bloku, w taki sposób:\n",
    "```\n",
    "print('Witaj świecie')\n",
    "```\n",
    "\n",
    "lub w taki\n",
    "\n",
    "    print('Witaj świecie')\n",
    "\n",
    "### Obrazy\n",
    "\n",
    "![Python logo](https://www.python.org/static/community_logos/python-logo-master-v3-TM.png)\n",
    "\n",
    "### Wzory w formacie $\\LaTeX$\n",
    "\n",
    "$ \\frac{\\int^\\infty_0{x}dx}{2}$\n",
    "\n",
    "\n",
    "### Tabelka \n",
    "\n",
    "\n",
    "| Tables        | Are           | Cool  |\n",
    "| ------------- |:-------------:| -----:|\n",
    "| col 3 is      | right-aligned | $1600 |\n",
    "| col 2 is      | centered      |   $12 |\n",
    "| zebra stripes | are neat      |    $1 |"
   ]
  },
  {
   "cell_type": "markdown",
   "metadata": {},
   "source": [
    "Podstawy Pythona\n",
    "==============="
   ]
  },
  {
   "cell_type": "code",
   "execution_count": null,
   "metadata": {},
   "outputs": [],
   "source": [
    "print('Witaj świecie')"
   ]
  },
  {
   "cell_type": "markdown",
   "metadata": {},
   "source": [
    "## Zmienne i typy\n",
    "\n",
    "Typy danych w Python: https://www.w3schools.com/python/python_datatypes.asp"
   ]
  },
  {
   "cell_type": "code",
   "execution_count": null,
   "metadata": {},
   "outputs": [],
   "source": [
    "# integer, typ całkowity  ( to co zaczyna się od # jest komentarzem )\n",
    "\n",
    "x = 42\n",
    "print(x, type(x))\n",
    "\n",
    "# typ Boolowski\n",
    "x = True\n",
    "print(x, type(x))\n",
    "\n",
    "\n",
    "# float\n",
    "x = 3.14\n",
    "print(x, type(x))\n",
    "\n",
    "# typ zespolony\n",
    "x=1+1j\n",
    "print(x, type(x))\n",
    "\n",
    "# napis\n",
    "s = 'Hello'\n",
    "print(s, type(s))\n",
    "\n",
    "# operacje na zmiennych \n",
    "x = x + 1\n",
    "print('x=', x)\n",
    "\n",
    "# łączenie napisów\n",
    "s = s + ' world ' + str(x) \n",
    "print('Połączony napis: ', s)\n",
    "\n",
    "print('Długość napisu: ', len(s))\n",
    "\n",
    "help(s.count)  # dokumentacja funkcji count()\n",
    "print(s.count('l'))"
   ]
  },
  {
   "cell_type": "markdown",
   "metadata": {},
   "source": [
    "## Operatory arytmetyczne\n",
    "\n",
    "Lista operatorów: https://www.w3schools.com/python/python_operators.asp"
   ]
  },
  {
   "cell_type": "code",
   "execution_count": null,
   "metadata": {},
   "outputs": [],
   "source": [
    "# operatory arytmetyczne  (realizacji takie jak w C)\n",
    "x = 3       # przypisanie\n",
    "x = x + 1   # dodawanie\n",
    "print(x)\n",
    "\n",
    "x += 3  \n",
    "print(x)\n",
    "\n",
    "x = 1 / 3   # dzielenie \n",
    "print(x)\n",
    "\n",
    "x = 7 // 3  # dzielenie całkowite \n",
    "print(x)\n",
    "\n",
    "x = 7 % 3   # modulo, reszta z dzielenia\n",
    "print(x)\n",
    "\n",
    "x = 2 ** 10   # potęgowanie\n",
    "print(x)"
   ]
  },
  {
   "cell_type": "markdown",
   "metadata": {},
   "source": [
    "***\n",
    "\n",
    "### **Ćwiczenie**\n",
    "\n",
    "Ile wynosi reszta z dzielenia 123456 przez 13 ?"
   ]
  },
  {
   "cell_type": "code",
   "execution_count": null,
   "metadata": {},
   "outputs": [],
   "source": []
  },
  {
   "cell_type": "markdown",
   "metadata": {},
   "source": [
    "***\n",
    "\n",
    "## Wyświetlanie wartości. Funkcja print()"
   ]
  },
  {
   "cell_type": "code",
   "execution_count": null,
   "metadata": {},
   "outputs": [],
   "source": [
    "# wyświetlanie liczb\n",
    "x = 3.14\n",
    "k = 42\n",
    "print('liczba x=' + str(x) + ', k=' + str(k))\n",
    "\n",
    "# formatowanie zgodne z funkcją printf() z języka C\n",
    "print('liczba k=%d' % k)\n",
    "\n",
    "print('liczba x=%.2f,  k=%d' % (x, k))\n",
    "\n",
    "print('42 dziesiętne  to %d' % 42)\n",
    "print('42 ósemkowo     to %o' % 42)\n",
    "print('42 szesnastkowo to %x' % 42)\n",
    "print('42 to znak         %c' % 42)\n"
   ]
  },
  {
   "cell_type": "markdown",
   "metadata": {},
   "source": [
    "## Wprowadzanie wartości wejściowych"
   ]
  },
  {
   "cell_type": "code",
   "execution_count": null,
   "metadata": {},
   "outputs": [],
   "source": [
    "x = input()\n",
    "print('Podałeś wartość %s która jest typu %s' % (x, type(x)))"
   ]
  },
  {
   "cell_type": "code",
   "execution_count": null,
   "metadata": {},
   "outputs": [],
   "source": [
    "x = input('Podaj imie:')\n",
    "print('Witaj %s.\\nMiłego dnia!' % x)"
   ]
  },
  {
   "cell_type": "markdown",
   "metadata": {},
   "source": [
    "## Zamiana typów"
   ]
  },
  {
   "cell_type": "code",
   "execution_count": null,
   "metadata": {},
   "outputs": [],
   "source": [
    "x = input()\n",
    "\n",
    "y = int(x)\n",
    "print(y, type(y))\n",
    "\n",
    "y = float(x)\n",
    "print(y, type(y))\n",
    "\n",
    "y = complex(x)\n",
    "print(y, type(y))\n"
   ]
  },
  {
   "cell_type": "code",
   "execution_count": null,
   "metadata": {},
   "outputs": [],
   "source": [
    "# utrata dokładności\n",
    "\n",
    "x = 3.14\n",
    "print(x)\n",
    "\n",
    "x = int(x)\n",
    "print(x)\n",
    "\n",
    "x=float(x)\n",
    "print(x)"
   ]
  },
  {
   "cell_type": "markdown",
   "metadata": {},
   "source": [
    "***\n",
    "### **Ćwiczenie**\n",
    "\n",
    "Napisz program, który dla podanej wartości promienia $r$ wyznaczy objętość kuli\n",
    "\n",
    "$\n",
    "V=\\frac{4}{3} \\pi r^{3}\n",
    "$\n",
    "\n",
    "Przyjmij wartość $\\pi \\approx 3,14159265$. \n",
    "Wynik wypisz z dokładnością do 3 miejsc po przecinku.\n"
   ]
  },
  {
   "cell_type": "code",
   "execution_count": null,
   "metadata": {},
   "outputs": [],
   "source": []
  },
  {
   "cell_type": "markdown",
   "metadata": {},
   "source": [
    "***\n",
    "\n",
    "## Warunek if, pętla while, pętla for\n",
    "\n",
    "### Operatory relacji i operatory logiczne"
   ]
  },
  {
   "cell_type": "code",
   "execution_count": null,
   "metadata": {},
   "outputs": [],
   "source": [
    "# operatory relacji: ==, !=, <, >, <=, >=\n",
    "\n",
    "x = 42\n",
    "print(x == 42)   #  wypisze True\n",
    "print(x != 42)   # wypisze False\n",
    "print(x == 13)   # wypisze False\n",
    "print(x < 100)   # wypisze True"
   ]
  },
  {
   "cell_type": "code",
   "execution_count": null,
   "metadata": {},
   "outputs": [],
   "source": [
    "# operatory logiczne: not, and, or\n",
    "\n",
    "x = 42\n",
    "\n",
    "print(x < 100 and x > 40)   #  wypisze True\n",
    "print(x != 42 or True )     # wypisze True\n",
    "print(not False)            # wypisze True\n",
    "print(not 2 > 100)"
   ]
  },
  {
   "cell_type": "markdown",
   "metadata": {},
   "source": [
    "### Instrukcja warunkowa if"
   ]
  },
  {
   "cell_type": "code",
   "execution_count": null,
   "metadata": {},
   "outputs": [],
   "source": [
    "x = float(input('Podaj liczbę'))\n",
    "\n",
    "if x > 0:\n",
    "    print('Liczba %f jest dodatnia' % x)"
   ]
  },
  {
   "cell_type": "code",
   "execution_count": null,
   "metadata": {},
   "outputs": [],
   "source": [
    "x = float(input('Podaj liczbę '))\n",
    "\n",
    "if x >= 0:\n",
    "    print('Liczba %f jest dodatnia' % x)\n",
    "else:\n",
    "    print('Liczba %f jest ujemna' % x)\n",
    "    "
   ]
  },
  {
   "cell_type": "code",
   "execution_count": null,
   "metadata": {},
   "outputs": [],
   "source": [
    "x = 42\n",
    "if x > 5 and x < 10 :\n",
    "    print('x w zakresie od 5 do 10')\n",
    "elif x > 10:\n",
    "    print('x jest większy od 10')\n",
    "else:\n",
    "    print('Nie ok')"
   ]
  },
  {
   "cell_type": "markdown",
   "metadata": {},
   "source": [
    "***\n",
    "\n",
    "### **Ćwiczenie**\n",
    "\n",
    "Napisz program, który sprawdzi czy podana liczba jest podzielna przez 7.\n"
   ]
  },
  {
   "cell_type": "code",
   "execution_count": null,
   "metadata": {},
   "outputs": [],
   "source": [
    "\n",
    "\n"
   ]
  },
  {
   "cell_type": "markdown",
   "metadata": {},
   "source": [
    "***\n",
    "\n",
    "### Pętle: while, for"
   ]
  },
  {
   "cell_type": "code",
   "execution_count": null,
   "metadata": {},
   "outputs": [],
   "source": [
    "x = 10\n",
    "while x > 0:\n",
    "    x = x -1\n",
    "    print(x)"
   ]
  },
  {
   "cell_type": "code",
   "execution_count": null,
   "metadata": {},
   "outputs": [],
   "source": [
    "for i in ('a', 3.13, 3, 'Ala ma kota'):\n",
    "    print(i)"
   ]
  },
  {
   "cell_type": "code",
   "execution_count": null,
   "metadata": {},
   "outputs": [],
   "source": [
    "for i in range(5):\n",
    "    print(i)"
   ]
  },
  {
   "cell_type": "markdown",
   "metadata": {},
   "source": [
    "***\n",
    "\n",
    "### **Ćwiczenie**\n",
    "\n",
    "Napisz program, który wypisze liczby w zakresie od 0 do 1 (włącznie) z krokiem 0.1. Wyniki wyświetl z dokładnością do 20 miejsc po przecinku.    \n",
    "\n",
    "Rozwiązanie z użyciem pętli `while` \n",
    "\n"
   ]
  },
  {
   "cell_type": "code",
   "execution_count": null,
   "metadata": {},
   "outputs": [],
   "source": [
    "\n",
    "\n",
    "\n",
    "\n",
    "\n"
   ]
  },
  {
   "cell_type": "markdown",
   "metadata": {},
   "source": [
    "Rozwiązania z uzyciem pętli `for`"
   ]
  },
  {
   "cell_type": "code",
   "execution_count": null,
   "metadata": {},
   "outputs": [],
   "source": [
    "\n",
    "\n",
    "\n",
    "\n",
    "\n"
   ]
  },
  {
   "cell_type": "markdown",
   "metadata": {},
   "source": [
    "***\n",
    "\n",
    "## Instrukcje brak i continue"
   ]
  },
  {
   "cell_type": "code",
   "execution_count": null,
   "metadata": {},
   "outputs": [],
   "source": [
    "# Instrukcja break\n",
    "\n",
    "licznik = 0\n",
    "while True:\n",
    "    print(licznik)\n",
    "    licznik += 1\n",
    "    if licznik >= 5:\n",
    "        break      # przerwanie petli\n"
   ]
  },
  {
   "cell_type": "code",
   "execution_count": null,
   "metadata": {},
   "outputs": [],
   "source": [
    "#Instrukcja continue\n",
    "\n",
    "for x in range(10):   \n",
    "    if x % 2 == 0:\n",
    "        continue   # pominiecie kroku \n",
    "    print(x)\n"
   ]
  },
  {
   "cell_type": "markdown",
   "metadata": {},
   "source": [
    "***\n",
    "\n",
    "### **Ćwiczenie**\n",
    "\n",
    "Napisz program, który dla podanej liczby całkowitej $n$ sprawdzi, czy liczba jest pierwsza. \n",
    "Program sprawdza wszystkie podzielniki liczby $n$ od 2 do $n-1$. W przypadku wykrycia dzielenia bez reszty przerywa pętle i wypisuje komunikat `\"Jest liczbą pierwszą\"`\n",
    "Jeżeli podzielnik nie zostanie znaleziony wypisywany jest komunikat `\"Nie jest liczbą pierwszą\"`"
   ]
  },
  {
   "cell_type": "code",
   "execution_count": null,
   "metadata": {},
   "outputs": [],
   "source": [
    "\n",
    "\n",
    "\n",
    "\n",
    "\n",
    "\n"
   ]
  },
  {
   "cell_type": "markdown",
   "metadata": {},
   "source": [
    "### **Ćwiczenie**\n",
    "\n",
    "\n",
    "Po wykonaniu wszystkich ćwiczeń udostępnij notatnik prowadzącemu zajęcia. Możesz zapisać plik notatnika `*.ipynb` i przesłać kopię jako załącznik do listu lub, jeśli używasz Google Colab, zapisz notatnik na dysku Google i prześlij link udostępniający notatnik. "
   ]
  }
 ],
 "metadata": {
  "kernelspec": {
   "display_name": "Python 3",
   "language": "python",
   "name": "python3"
  },
  "language_info": {
   "codemirror_mode": {
    "name": "ipython",
    "version": 3
   },
   "file_extension": ".py",
   "mimetype": "text/x-python",
   "name": "python",
   "nbconvert_exporter": "python",
   "pygments_lexer": "ipython3",
   "version": "3.7.4"
  },
  "toc": {
   "base_numbering": 1,
   "nav_menu": {},
   "number_sections": true,
   "sideBar": true,
   "skip_h1_title": false,
   "title_cell": "Table of Contents",
   "title_sidebar": "Contents",
   "toc_cell": false,
   "toc_position": {},
   "toc_section_display": true,
   "toc_window_display": false
  },
  "varInspector": {
   "cols": {
    "lenName": 16,
    "lenType": 16,
    "lenVar": 40
   },
   "kernels_config": {
    "python": {
     "delete_cmd_postfix": "",
     "delete_cmd_prefix": "del ",
     "library": "var_list.py",
     "varRefreshCmd": "print(var_dic_list())"
    },
    "r": {
     "delete_cmd_postfix": ") ",
     "delete_cmd_prefix": "rm(",
     "library": "var_list.r",
     "varRefreshCmd": "cat(var_dic_list()) "
    }
   },
   "types_to_exclude": [
    "module",
    "function",
    "builtin_function_or_method",
    "instance",
    "_Feature"
   ],
   "window_display": false
  }
 },
 "nbformat": 4,
 "nbformat_minor": 4
}
