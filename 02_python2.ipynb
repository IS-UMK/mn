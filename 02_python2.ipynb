{
 "cells": [
  {
   "cell_type": "markdown",
   "metadata": {},
   "source": [
    "# Wprowadzenie do Python c.d."
   ]
  },
  {
   "cell_type": "markdown",
   "metadata": {},
   "source": [
    "## Krotki, listy i słowniki"
   ]
  },
  {
   "cell_type": "code",
   "execution_count": null,
   "metadata": {},
   "outputs": [],
   "source": [
    "# krotka (tuple) - kolekcja elementów, której nie można modyfikować\n",
    "b = ( 1, 'a', 'helo')\n",
    "\n",
    "print('b=', b)\n",
    "\n",
    "print('b[0]=', b[0])    # pierwszy element, indeksowane od 0\n",
    "\n",
    "print('%c %d %x %o' % (42, 42, 42, 42))"
   ]
  },
  {
   "cell_type": "code",
   "execution_count": null,
   "metadata": {},
   "outputs": [],
   "source": [
    "# lista (tablica)\n",
    "\n",
    "a = [1, 2, 3, 5]\n",
    "\n",
    "print('lista a=', a)\n",
    "print('a[0]=', a[0])\n",
    "\n",
    "for i in a:\n",
    "    print(i)\n",
    "    \n",
    "for i, x in enumerate(a):\n",
    "    print(i, x)"
   ]
  },
  {
   "cell_type": "code",
   "execution_count": null,
   "metadata": {},
   "outputs": [],
   "source": [
    "# lista \n",
    "a = [ 5, 3, 2, -4, 12]\n",
    "\n",
    "a.reverse()    # odwracanie\n",
    "print(a)\n",
    "\n",
    "a.sort()       # sortowanie\n",
    "print(a)\n",
    "\n",
    "a.append(3)    # dodawanie elementu na końcu\n",
    "print(a)\n",
    "\n",
    "del a[0]      # usuwanie elementu\n",
    "print(a)\n"
   ]
  },
  {
   "cell_type": "code",
   "execution_count": null,
   "metadata": {},
   "outputs": [],
   "source": [
    "# pusta lista\n",
    "a = []\n",
    "\n",
    "print('Zawartosc listy', a)\n",
    "print('Dlugosc listy = ', len(a))\n",
    "\n",
    "for i in range(5):\n",
    "    a.append(i**2)\n",
    "\n",
    "print('Zawartosc listy', a)\n",
    "print('Dlugosc listy = ', len(a))\n",
    "    "
   ]
  },
  {
   "cell_type": "code",
   "execution_count": null,
   "metadata": {},
   "outputs": [],
   "source": [
    "# lista zawierająca listy \n",
    "a= [[ 1, 2 ,3 ], [4, 5, 6, 7 ]]\n",
    "print(len(a))\n",
    "print(a[0])      # pierwszy wiersz\n",
    "print(a[1][2])    "
   ]
  },
  {
   "cell_type": "code",
   "execution_count": null,
   "metadata": {},
   "outputs": [],
   "source": [
    "# indeksowanie list\n",
    "a = [ 5, 3, 1,6 ,3]\n",
    "print(a[0])             # pierwszy element\n",
    "print(a[-1])            # ostatni element\n",
    "print(a[1:3])           # element 1,2\n",
    "print(a[2:])            # element od 2 do końca"
   ]
  },
  {
   "cell_type": "code",
   "execution_count": null,
   "metadata": {},
   "outputs": [],
   "source": [
    "# słownik { 'klucz1' : wartość1, 'klucz2': wartość2, ...}\n",
    "s = { 'ala' : 'ma kota', 'ewa' : 'ma psa'}\n",
    "\n",
    "print(s['ala'])    \n",
    "\n",
    "s['janek']='lubi Pythina'    # nowy element słownika\n",
    "\n",
    "for k in s:\n",
    "    print(k, s[k])\n",
    "    \n",
    "print(s.keys())      # lista kluczy\n",
    "print(s.values())    # lista wartości\n",
    "print(len(s))        # ilośc elementów\n"
   ]
  },
  {
   "cell_type": "markdown",
   "metadata": {},
   "source": [
    "## Funkcje"
   ]
  },
  {
   "cell_type": "code",
   "execution_count": null,
   "metadata": {},
   "outputs": [],
   "source": [
    "# definicja funkcji\n",
    "def suma(a, b, c):\n",
    "    \n",
    "    return a + b + c\n",
    "    "
   ]
  },
  {
   "cell_type": "code",
   "execution_count": null,
   "metadata": {},
   "outputs": [],
   "source": [
    "x = suma(1, 3, 4)\n",
    "print(x)"
   ]
  },
  {
   "cell_type": "code",
   "execution_count": null,
   "metadata": {},
   "outputs": [],
   "source": [
    "# funkcja może zwracać krotkę (więcej niż jedną wartość)\n",
    "def funkcja2(a, b, c):\n",
    "    \n",
    "    return a+1, b-1, c\n",
    "    "
   ]
  },
  {
   "cell_type": "code",
   "execution_count": null,
   "metadata": {},
   "outputs": [],
   "source": [
    "x, y, z = funkcja2(1, 2, 3)\n",
    "\n",
    "print(x, y, z)"
   ]
  },
  {
   "cell_type": "markdown",
   "metadata": {},
   "source": [
    "***\n",
    "\n",
    "### **Ćwiczenie**\n",
    "\n",
    "Napisz funkcję, która dla podanej liczby całkowitej $n$ wyznacza wartość silni $!n = 1 \\cdot 2 \\cdot \\ldots \\cdot n$. \n",
    "\n",
    "Korzystając z tej funkci wypisz wartości silni dla wszystkich liczb całkowitych od 1 do 20. \n",
    "\n",
    "*Dla chętnych:* spróbuj zaimplementować funkcję z wykorzystaniem rekurencji."
   ]
  },
  {
   "cell_type": "code",
   "execution_count": null,
   "metadata": {},
   "outputs": [],
   "source": [
    "\n",
    "\n",
    "\n",
    "\n",
    "\n",
    "\n",
    "\n",
    "\n",
    "\n"
   ]
  },
  {
   "cell_type": "markdown",
   "metadata": {},
   "source": [
    "***\n",
    "\n",
    "## Pliki\n",
    "\n",
    "Operacje na plikach: https://www.w3schools.com/python/python_file_handling.asp\n",
    "\n",
    "W ćwiczeniach wykorzystano plik [liczby.txt](http://www.is.umk.pl/~grochu/mn/files/liczby.txt), który zawierakilka liczb odzielonych przecinkiem\n",
    "```\n",
    "1,2,3,4,5,6\n",
    "11,22,33,44,55,66\n",
    "42,32,32,1\n",
    "```\n",
    "Pobierz plik i umieść w katalogu w którym znajduje się notatnik."
   ]
  },
  {
   "cell_type": "code",
   "execution_count": null,
   "metadata": {},
   "outputs": [],
   "source": [
    "# Pobranie pliku (uwaga: działa tylko, gdy w systemie zainstalowany jest wget)\n",
    "!wget http://www.is.umk.pl/~grochu/mn/files/liczby.txt"
   ]
  },
  {
   "cell_type": "code",
   "execution_count": null,
   "metadata": {},
   "outputs": [],
   "source": [
    "# Odczyt pliku \n",
    "\n",
    "plik = open('liczby.txt', 'r')\n",
    "for linia in plik:\n",
    "    print(linia)\n",
    "plik.close()    "
   ]
  },
  {
   "cell_type": "code",
   "execution_count": null,
   "metadata": {},
   "outputs": [],
   "source": [
    "x = []\n",
    "with open('liczby.txt', 'r') as plik:\n",
    "    for linia in plik:\n",
    "        liczby = linia.split(',')\n",
    "        for l in liczby:\n",
    "            x.append(float(l))\n",
    "\n",
    "print(x)"
   ]
  },
  {
   "cell_type": "code",
   "execution_count": null,
   "metadata": {},
   "outputs": [],
   "source": [
    "# Zapis do pliku\n",
    "\n",
    "liczby = [ 3, -5 , 2 , 3]\n",
    "\n",
    "f = open(\"output.txt\", \"w\")\n",
    "f.write(\"Oto liczby:\\n\")\n",
    "for x in liczby:\n",
    "    f.write('%.3f\\n' % x)\n",
    "f.close()\n",
    "\n",
    "# !ls -l"
   ]
  },
  {
   "cell_type": "markdown",
   "metadata": {
    "slideshow": {
     "slide_type": "slide"
    }
   },
   "source": [
    "***\n",
    "\n",
    "### **Ćwiczenia**\n",
    "\n",
    "Plik  [torun_temp_2015_2020.txt](http://www.is.umk.pl/~grochu/mn/files/torun_temp_2015_2020.txt) zawiera wartości średniej dobowej temperatury w Toruniu od 2015 roku zapisane w nastepującycm formacie (ROK DZIEN MIESIĄC TEMPERATURA). \n",
    "\n",
    "```\n",
    "2015 01 01    0.65\n",
    "2015 01 02    1.89\n",
    "2015 01 03    1.94\n",
    "...\n",
    "```\n",
    "\n",
    "Wyznacz nstępujące wartości:\n",
    "  * średnia wartość temperatury w całym okresie\n",
    "  * średnia temeratura w latach 2015, 2016, 2017, 2018, 2019\n",
    "  * wartość maksymalna i minimalna wraz z informacją kiedy wystąpiły te wartości\n",
    "\n",
    "Uzyskane wyniki zapisz do pliku o nazwie `'wynik.txt\"`."
   ]
  },
  {
   "cell_type": "code",
   "execution_count": null,
   "metadata": {},
   "outputs": [],
   "source": []
  },
  {
   "cell_type": "markdown",
   "metadata": {},
   "source": [
    "***\n",
    "\n",
    "## Moduły i pakiety\n",
    "\n",
    "Lista wbudowanych funkcji: https://docs.python.org/3.8/library/functions.html\n",
    "\n",
    "Lista wbudowanych pakietów: https://docs.python.org/3.8/library/\n",
    "\n",
    "Przykład: \n",
    "* **math** https://docs.python.org/3.8/library/math.html\n",
    "* **random** https://docs.python.org/3.8/library/random.html\n",
    "* **time** https://docs.python.org/3.8/library/time.html"
   ]
  },
  {
   "cell_type": "code",
   "execution_count": null,
   "metadata": {},
   "outputs": [],
   "source": [
    "import math\n",
    "\n",
    "\n",
    "print(math.sqrt(2))"
   ]
  },
  {
   "cell_type": "code",
   "execution_count": null,
   "metadata": {},
   "outputs": [],
   "source": [
    "import random as r\n",
    "\n",
    "for i in range(10):\n",
    "    print(r.random())"
   ]
  },
  {
   "cell_type": "code",
   "execution_count": null,
   "metadata": {},
   "outputs": [],
   "source": [
    "from time import sleep\n",
    "\n",
    "for i in range(10, 1, -1):\n",
    "    print(i)\n",
    "    sleep(1)\n",
    "\n",
    "print('Start!')"
   ]
  },
  {
   "cell_type": "markdown",
   "metadata": {},
   "source": [
    "***\n",
    "\n",
    "### **Ćwiczenie**\n",
    "\n",
    "Oblicz pierwiastek kwadratowy 2 a nastepnie podnieś wynik do kwadratu. Wyznacz błąd bezwzględny oraz bład względny.  Wyraź bład względny w procentach \n",
    "\n",
    "Bład bezwzględny $\\Delta x=\\left|x-x_{0}\\right|$ \n",
    "\n",
    "Błąd względny $\\delta=\\frac{\\Delta x}{x}=\\frac{\\left|x-x_{0}\\right|}{x}$"
   ]
  },
  {
   "cell_type": "code",
   "execution_count": null,
   "metadata": {},
   "outputs": [],
   "source": []
  }
 ],
 "metadata": {
  "kernelspec": {
   "display_name": "Python 3",
   "language": "python",
   "name": "python3"
  },
  "language_info": {
   "codemirror_mode": {
    "name": "ipython",
    "version": 3
   },
   "file_extension": ".py",
   "mimetype": "text/x-python",
   "name": "python",
   "nbconvert_exporter": "python",
   "pygments_lexer": "ipython3",
   "version": "3.7.4"
  }
 },
 "nbformat": 4,
 "nbformat_minor": 4
}
