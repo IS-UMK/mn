{
 "cells": [
  {
   "cell_type": "markdown",
   "metadata": {},
   "source": [
    "https://github.com/brendan-rius/jupyter-c-kernel\n",
    "\n",
    "https://xuedong.github.io/programming/2017/12/27/jupyter-c-kernel.html\n",
    "\n",
    "\n",
    "## Install as user\n",
    "\n",
    "```\n",
    "    pip install --user jupyter-c-kernel\n",
    "    install_c_kernel --user\n",
    "    jupyter-notebook\n",
    "```\n"
   ]
  },
  {
   "cell_type": "code",
   "execution_count": 22,
   "metadata": {
    "ExecuteTime": {
     "end_time": "2021-09-24T07:10:00.556234Z",
     "start_time": "2021-09-24T07:10:00.460511Z"
    }
   },
   "outputs": [
    {
     "name": "stdout",
     "output_type": "stream",
     "text": [
      "ALa ma kota\n"
     ]
    }
   ],
   "source": [
    "#include<stdio.h>\n",
    "\n",
    "int main()\n",
    "{\n",
    "    printf(\"ALa ma kota\\n\");\n",
    "    return 0;\n",
    "}\n"
   ]
  },
  {
   "cell_type": "code",
   "execution_count": 2,
   "metadata": {
    "ExecuteTime": {
     "end_time": "2021-09-24T07:03:02.766495Z",
     "start_time": "2021-09-24T07:03:02.727258Z"
    }
   },
   "outputs": [
    {
     "name": "stderr",
     "output_type": "stream",
     "text": [
      "/tmp/tmp6plx2192.c: In function ‘main’:\n",
      "/tmp/tmp6plx2192.c:5:28: error: expected ‘;’ before ‘}’ token\n",
      "    5 |     printf(\"ALa ma kota\\n\")\n",
      "      |                            ^\n",
      "      |                            ;\n",
      "    6 | }\n",
      "      | ~                           \n",
      "[C kernel] GCC exited with code 1, the executable will not be executed"
     ]
    }
   ],
   "source": [
    "#include<stdio.h>\n",
    "\n",
    "int main()\n",
    "{\n",
    "    printf(\"ALa ma kota\\n\")\n",
    "}\n"
   ]
  },
  {
   "cell_type": "code",
   "execution_count": 12,
   "metadata": {
    "ExecuteTime": {
     "end_time": "2021-09-24T07:05:27.562744Z",
     "start_time": "2021-09-24T07:05:27.475763Z"
    }
   },
   "outputs": [
    {
     "name": "stdout",
     "output_type": "stream",
     "text": [
      "ALa ma kota\n",
      "1.732051"
     ]
    }
   ],
   "source": [
    "//%cflags:-lm -Wall \n",
    "\n",
    "#include<stdio.h>\n",
    "#include<math.h>\n",
    "\n",
    "int main()\n",
    "{\n",
    "    printf(\"ALa ma kota\\n\");\n",
    "    printf(\"%f\", sqrt(3));\n",
    "}\n"
   ]
  }
 ],
 "metadata": {
  "kernelspec": {
   "display_name": "C",
   "language": "c",
   "name": "c"
  },
  "language_info": {
   "file_extension": ".c",
   "mimetype": "text/plain",
   "name": "c"
  },
  "toc": {
   "base_numbering": 1,
   "nav_menu": {},
   "number_sections": true,
   "sideBar": true,
   "skip_h1_title": false,
   "title_cell": "Table of Contents",
   "title_sidebar": "Contents",
   "toc_cell": false,
   "toc_position": {},
   "toc_section_display": true,
   "toc_window_display": false
  },
  "varInspector": {
   "cols": {
    "lenName": 16,
    "lenType": 16,
    "lenVar": 40
   },
   "kernels_config": {
    "python": {
     "delete_cmd_postfix": "",
     "delete_cmd_prefix": "del ",
     "library": "var_list.py",
     "varRefreshCmd": "print(var_dic_list())"
    },
    "r": {
     "delete_cmd_postfix": ") ",
     "delete_cmd_prefix": "rm(",
     "library": "var_list.r",
     "varRefreshCmd": "cat(var_dic_list()) "
    }
   },
   "types_to_exclude": [
    "module",
    "function",
    "builtin_function_or_method",
    "instance",
    "_Feature"
   ],
   "window_display": false
  }
 },
 "nbformat": 4,
 "nbformat_minor": 2
}
